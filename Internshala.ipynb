{
 "cells": [
  {
   "cell_type": "code",
   "execution_count": 4,
   "metadata": {},
   "outputs": [],
   "source": [
    "from bs4 import BeautifulSoup\n",
    "import requests\n",
    "import pandas as pd\n",
    "from IPython.display import HTML"
   ]
  },
  {
   "cell_type": "code",
   "execution_count": 5,
   "metadata": {},
   "outputs": [],
   "source": [
    "lis2 = list(range(1, 20))\n",
    "lis = [\"page-\" + str(s) for s in lis2]\n"
   ]
  },
  {
   "cell_type": "code",
   "execution_count": 6,
   "metadata": {},
   "outputs": [],
   "source": [
    "def get_text(x):\n",
    "    return x.text"
   ]
  },
  {
   "cell_type": "code",
   "execution_count": 7,
   "metadata": {},
   "outputs": [
    {
     "name": "stdout",
     "output_type": "stream",
     "text": [
      "page-1\n",
      "page-2\n",
      "page-3\n",
      "page-4\n"
     ]
    }
   ],
   "source": [
    "results = []\n",
    "\n",
    "for x in lis:\n",
    "    \n",
    "    find_in = 'https://internshala.com/internships/computer%20vision,data%20science,image%20processing,machine%20learning,python%2Fdjango-internship-in-bangalore,chandigarh,delhi,gurgaon,jalandhar,mumbai,navi%20mumbai,pune,thane/'\n",
    "    url = find_in + x\n",
    "    print(x)\n",
    "    \n",
    "    page = requests.get(url)\n",
    "    soup = BeautifulSoup(page.content, 'html.parser')\n",
    "    \n",
    "    internships = soup.findAll('div', {'class': 'individual_internship'})\n",
    "    \n",
    "    if soup.find('div', {'class': 'no_result_message'}) is None:\n",
    "        results += internships\n",
    "        continue\n",
    "    else:\n",
    "        break\n",
    "    "
   ]
  },
  {
   "cell_type": "code",
   "execution_count": 8,
   "metadata": {
    "scrolled": false
   },
   "outputs": [],
   "source": [
    "df = pd.DataFrame(columns=['Location', 'Stipend_Lower', 'Stipend_Upper', 'Granularity', 'Company', 'Duration', 'Link'])\n",
    "\n",
    "for i, item in enumerate(results):\n",
    "    \n",
    "    link = item.findAll('h4')[0].find('a')['href']\n",
    "    website = 'https://internshala.com'\n",
    "    link = '<a href=' + website + link + '> Link </a>'\n",
    "    \n",
    "    \n",
    "    company = item.findAll('h4')[1].find('a').text\n",
    "    \n",
    "    details = item.find('div', {'class', 'individual_internship_details'})\n",
    "    \n",
    "    locations = details.find('p').findAll('span')[1].findAll('a')\n",
    "    locations = list(map(get_text, locations))\n",
    "    \n",
    "    td = details.findAll('td')\n",
    "    \n",
    "    start_date = td[0].find('div').text\n",
    "    duration = td[1].text\n",
    "    \n",
    "    #################### STIPEND ####################\n",
    "    val = td[2].text.strip().split()\n",
    "    if val[0] == 'Performance':\n",
    "        continue\n",
    "    if val[0] == 'Unpaid':\n",
    "        continue\n",
    "    elif '-' in val[0]:\n",
    "        \n",
    "        stipend = []\n",
    "        stipend.append(int(val[0].split('-')[0]))\n",
    "        stipend.append(int(val[0].split('-')[1]))\n",
    "    else:\n",
    "        stipend = int(val[0])\n",
    "        \n",
    "    granularity = val[-1]\n",
    "    \n",
    "    ################## END STIPEND ##################\n",
    "    \n",
    "    post_date = td[3].text\n",
    "    apply_by = td[4].text\n",
    "    \n",
    "    # df append\n",
    "    if type(stipend) == int:\n",
    "        df.loc[i] = [locations, stipend, stipend, granularity, company, duration, link]\n",
    "    else:\n",
    "        df.loc[i] = [locations, stipend[0], stipend[1], granularity, company, duration, link]\n",
    "    "
   ]
  },
  {
   "cell_type": "code",
   "execution_count": 10,
   "metadata": {},
   "outputs": [],
   "source": []
  },
  {
   "cell_type": "code",
   "execution_count": null,
   "metadata": {
    "collapsed": true
   },
   "outputs": [],
   "source": []
  },
  {
   "cell_type": "code",
   "execution_count": null,
   "metadata": {
    "collapsed": true
   },
   "outputs": [],
   "source": []
  }
 ],
 "metadata": {
  "kernelspec": {
   "display_name": "Python 3",
   "language": "python",
   "name": "python3"
  },
  "language_info": {
   "codemirror_mode": {
    "name": "ipython",
    "version": 3
   },
   "file_extension": ".py",
   "mimetype": "text/x-python",
   "name": "python",
   "nbconvert_exporter": "python",
   "pygments_lexer": "ipython3",
   "version": "3.6.3"
  }
 },
 "nbformat": 4,
 "nbformat_minor": 2
}
